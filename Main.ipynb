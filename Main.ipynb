{
 "cells": [
  {
   "cell_type": "markdown",
   "metadata": {},
   "source": [
    "## INSTALANDO E IMPORTANDO A NEWSAPI"
   ]
  },
  {
   "cell_type": "code",
   "execution_count": 1,
   "metadata": {},
   "outputs": [
    {
     "name": "stdout",
     "output_type": "stream",
     "text": [
      "Requirement already satisfied: pip in c:\\users\\nicol\\appdata\\local\\programs\\python\\python311\\lib\\site-packages (23.2.1)\n",
      "Requirement already satisfied: newsapi-python in c:\\users\\nicol\\appdata\\local\\programs\\python\\python311\\lib\\site-packages (0.2.7)\n",
      "Requirement already satisfied: requests<3.0.0 in c:\\users\\nicol\\appdata\\local\\programs\\python\\python311\\lib\\site-packages (from newsapi-python) (2.31.0)\n",
      "Requirement already satisfied: charset-normalizer<4,>=2 in c:\\users\\nicol\\appdata\\local\\programs\\python\\python311\\lib\\site-packages (from requests<3.0.0->newsapi-python) (3.2.0)\n",
      "Requirement already satisfied: idna<4,>=2.5 in c:\\users\\nicol\\appdata\\local\\programs\\python\\python311\\lib\\site-packages (from requests<3.0.0->newsapi-python) (3.4)\n",
      "Requirement already satisfied: urllib3<3,>=1.21.1 in c:\\users\\nicol\\appdata\\local\\programs\\python\\python311\\lib\\site-packages (from requests<3.0.0->newsapi-python) (2.0.4)\n",
      "Requirement already satisfied: certifi>=2017.4.17 in c:\\users\\nicol\\appdata\\local\\programs\\python\\python311\\lib\\site-packages (from requests<3.0.0->newsapi-python) (2023.7.22)\n",
      "Requirement already satisfied: pandas in c:\\users\\nicol\\appdata\\local\\programs\\python\\python311\\lib\\site-packages (2.1.0)\n",
      "Requirement already satisfied: numpy>=1.23.2 in c:\\users\\nicol\\appdata\\local\\programs\\python\\python311\\lib\\site-packages (from pandas) (1.25.2)\n",
      "Requirement already satisfied: python-dateutil>=2.8.2 in c:\\users\\nicol\\appdata\\roaming\\python\\python311\\site-packages (from pandas) (2.8.2)\n",
      "Requirement already satisfied: pytz>=2020.1 in c:\\users\\nicol\\appdata\\local\\programs\\python\\python311\\lib\\site-packages (from pandas) (2023.3)\n",
      "Requirement already satisfied: tzdata>=2022.1 in c:\\users\\nicol\\appdata\\local\\programs\\python\\python311\\lib\\site-packages (from pandas) (2023.3)\n",
      "Requirement already satisfied: six>=1.5 in c:\\users\\nicol\\appdata\\roaming\\python\\python311\\site-packages (from python-dateutil>=2.8.2->pandas) (1.16.0)\n",
      "Requirement already satisfied: python-dotenv in c:\\users\\nicol\\appdata\\local\\programs\\python\\python311\\lib\\site-packages (1.0.0)\n"
     ]
    }
   ],
   "source": [
    "!pip install --upgrade pip\n",
    "!pip install newsapi-python\n",
    "!pip install pandas\n",
    "!pip install python-dotenv"
   ]
  },
  {
   "cell_type": "code",
   "execution_count": 2,
   "metadata": {},
   "outputs": [],
   "source": [
    "from newsapi import NewsApiClient\n",
    "from datetime import datetime\n",
    "import json\n",
    "import pandas as pd\n",
    "import time\n",
    "from dotenv import load_dotenv\n",
    "import os"
   ]
  },
  {
   "cell_type": "markdown",
   "metadata": {},
   "source": [
    "## CHAVE DA API"
   ]
  },
  {
   "cell_type": "code",
   "execution_count": 3,
   "metadata": {},
   "outputs": [],
   "source": [
    "load_dotenv()\n",
    "api_key = os.getenv('API_KEY')\n",
    "newsapi = NewsApiClient(api_key=api_key)\n"
   ]
  },
  {
   "cell_type": "markdown",
   "metadata": {},
   "source": [
    "## EXTRAÇÃO DE DADOS"
   ]
  },
  {
   "cell_type": "code",
   "execution_count": 4,
   "metadata": {},
   "outputs": [],
   "source": [
    "def extracao_dados():\n",
    "    criterios = ['genoma', 'sequenciamento de dna', 'terapias geneticas personalizadas', 'medicina personalizada', 'Síndrome de Down', 'Fibrose cística', 'Hemofilia']\n",
    "    artigos = []\n",
    "    \n",
    "    for criterio in criterios:\n",
    "        resultado = newsapi.get_everything(q=criterio,\n",
    "                                            language='pt',\n",
    "                                            sort_by='relevancy'\n",
    "                                            )\n",
    "        if resultado['status']=='ok':\n",
    "            \n",
    "            for artigo in resultado['articles']:\n",
    "                artigo['criterio_relevancia']=criterio               \n",
    "            artigos.extend(resultado['articles'])\n",
    "            \n",
    "    print(f'Quantidade de artigos achados: {len(artigos)}')\n",
    "    with open(\"dados_brutos.json\", \"w\") as arquivo_json:\n",
    "        json.dump(artigos, arquivo_json)\n",
    "   "
   ]
  },
  {
   "cell_type": "markdown",
   "metadata": {},
   "source": [
    "## TRANSFORMAÇÃO DOS DADOS"
   ]
  },
  {
   "cell_type": "code",
   "execution_count": 5,
   "metadata": {},
   "outputs": [],
   "source": [
    "def transformacao_dados():\n",
    "\n",
    "    artigos = pd.read_json('dados_brutos.json')\n",
    "\n",
    "    fontes = []\n",
    "    for i in range(len(artigos)):\n",
    "        fontes.append(artigos['source'][i]['name'])\n",
    "\n",
    "    artigos['fonte'] = fontes\n",
    "    del artigos['source']\n",
    "\n",
    "        \n",
    "    colunas_renomeadas = {\n",
    "        'author':'autor',\n",
    "        'title':'titulo',\n",
    "        'description':'descricao',\n",
    "        'publishedAt':'publicado_em',\n",
    "        'content':'conteudo'    \n",
    "    }\n",
    "    colunas_selecao = ['titulo','descricao','conteudo','autor','fonte','url','publicado_em','criterio_relevancia']\n",
    "\n",
    "  \n",
    "    df = pd.DataFrame(artigos)\n",
    "    df = df.loc[df.title!='[Removed]']\n",
    "    df = df.fillna('')\n",
    "    df = df.rename(columns=colunas_renomeadas)\n",
    "    df = df[colunas_selecao]\n",
    "    df['publicado_em'] = pd.to_datetime(df['publicado_em'], format='%Y-%m-%dT%H:%M:%SZ')\n",
    "\n",
    "#LER O ARQUIVO JA SALVO E CONCATENA COM O NOVO DATAFRAME\n",
    "    try:\n",
    "        df_antigo = pd.read_json('dados_tratados_em_json.json')\n",
    "        df = pd.concat([df, df_antigo], axis=0)\n",
    "        \n",
    "        df = df.drop_duplicates(subset=['url']).reset_index(drop=True)\n",
    "                \n",
    "    \n",
    "    except Exception as e:\n",
    "        df = df.drop_duplicates(subset=['url']).reset_index(drop=True)\n",
    "        print('Primeira leitura')\n",
    "\n",
    "    return df\n",
    "    "
   ]
  },
  {
   "cell_type": "markdown",
   "metadata": {},
   "source": [
    "## Load do DataFrame final"
   ]
  },
  {
   "cell_type": "code",
   "execution_count": 6,
   "metadata": {},
   "outputs": [],
   "source": [
    "def load(df):\n",
    "    df.to_json('dados_tratados_em_json.json')"
   ]
  },
  {
   "cell_type": "markdown",
   "metadata": {},
   "source": [
    "## ETL"
   ]
  },
  {
   "cell_type": "code",
   "execution_count": 7,
   "metadata": {},
   "outputs": [],
   "source": [
    "def etl():\n",
    "    extracao_dados()\n",
    "    df = transformacao_dados()\n",
    "    load(df)\n",
    "    return df\n"
   ]
  },
  {
   "cell_type": "markdown",
   "metadata": {},
   "source": [
    "## Cria uma função para contar um tempo e permitir um processamento a cada periodo de tempo definido"
   ]
  },
  {
   "cell_type": "code",
   "execution_count": 8,
   "metadata": {},
   "outputs": [],
   "source": [
    "def timer(tempo_proc):\n",
    "    print(\"inicializa contagem\")\n",
    "    for t in range(1, tempo_proc+1):\n",
    "        print(t)\n",
    "        time.sleep(1)\n",
    "    print(\"finaliza contagem\")"
   ]
  },
  {
   "cell_type": "markdown",
   "metadata": {},
   "source": [
    "## Faz a chamada definitiva do processamento a cada 5 segundos"
   ]
  },
  {
   "cell_type": "code",
   "execution_count": 9,
   "metadata": {},
   "outputs": [
    {
     "name": "stdout",
     "output_type": "stream",
     "text": [
      "inicializa contagem\n",
      "1\n",
      "2\n",
      "3\n",
      "4\n",
      "5\n",
      "finaliza contagem\n",
      "Quantidade de artigos achados: 126\n",
      "Primeira leitura\n",
      "inicializa contagem\n",
      "1\n",
      "2\n",
      "3\n",
      "4\n",
      "5\n",
      "finaliza contagem\n",
      "Quantidade de artigos achados: 126\n",
      "Estou no Try\n",
      "inicializa contagem\n",
      "1\n",
      "2\n",
      "3\n",
      "4\n",
      "5\n",
      "finaliza contagem\n",
      "Quantidade de artigos achados: 126\n",
      "Estou no Try\n",
      "inicializa contagem\n",
      "1\n"
     ]
    },
    {
     "ename": "KeyboardInterrupt",
     "evalue": "",
     "output_type": "error",
     "traceback": [
      "\u001b[1;31m---------------------------------------------------------------------------\u001b[0m",
      "\u001b[1;31mKeyboardInterrupt\u001b[0m                         Traceback (most recent call last)",
      "\u001b[1;32mg:\\Meu Drive\\TI\\Santander Coders\\Engenharia de Dados\\04 - Extração de Dados I\\Projeto Final\\Main.ipynb Cell 17\u001b[0m line \u001b[0;36m2\n\u001b[0;32m      <a href='vscode-notebook-cell:/g%3A/Meu%20Drive/TI/Santander%20Coders/Engenharia%20de%20Dados/04%20-%20Extra%C3%A7%C3%A3o%20de%20Dados%20I/Projeto%20Final/Main.ipynb#X22sZmlsZQ%3D%3D?line=0'>1</a>\u001b[0m \u001b[39mwhile\u001b[39;00m \u001b[39m1\u001b[39m\u001b[39m==\u001b[39m\u001b[39m1\u001b[39m:\n\u001b[1;32m----> <a href='vscode-notebook-cell:/g%3A/Meu%20Drive/TI/Santander%20Coders/Engenharia%20de%20Dados/04%20-%20Extra%C3%A7%C3%A3o%20de%20Dados%20I/Projeto%20Final/Main.ipynb#X22sZmlsZQ%3D%3D?line=1'>2</a>\u001b[0m     timer(\u001b[39m5\u001b[39;49m)\n\u001b[0;32m      <a href='vscode-notebook-cell:/g%3A/Meu%20Drive/TI/Santander%20Coders/Engenharia%20de%20Dados/04%20-%20Extra%C3%A7%C3%A3o%20de%20Dados%20I/Projeto%20Final/Main.ipynb#X22sZmlsZQ%3D%3D?line=2'>3</a>\u001b[0m     df \u001b[39m=\u001b[39m etl()\n\u001b[0;32m      <a href='vscode-notebook-cell:/g%3A/Meu%20Drive/TI/Santander%20Coders/Engenharia%20de%20Dados/04%20-%20Extra%C3%A7%C3%A3o%20de%20Dados%20I/Projeto%20Final/Main.ipynb#X22sZmlsZQ%3D%3D?line=3'>4</a>\u001b[0m     df\u001b[39m.\u001b[39mhead()\n",
      "\u001b[1;32mg:\\Meu Drive\\TI\\Santander Coders\\Engenharia de Dados\\04 - Extração de Dados I\\Projeto Final\\Main.ipynb Cell 17\u001b[0m line \u001b[0;36m5\n\u001b[0;32m      <a href='vscode-notebook-cell:/g%3A/Meu%20Drive/TI/Santander%20Coders/Engenharia%20de%20Dados/04%20-%20Extra%C3%A7%C3%A3o%20de%20Dados%20I/Projeto%20Final/Main.ipynb#X22sZmlsZQ%3D%3D?line=2'>3</a>\u001b[0m \u001b[39mfor\u001b[39;00m t \u001b[39min\u001b[39;00m \u001b[39mrange\u001b[39m(\u001b[39m1\u001b[39m, tempo_proc\u001b[39m+\u001b[39m\u001b[39m1\u001b[39m):\n\u001b[0;32m      <a href='vscode-notebook-cell:/g%3A/Meu%20Drive/TI/Santander%20Coders/Engenharia%20de%20Dados/04%20-%20Extra%C3%A7%C3%A3o%20de%20Dados%20I/Projeto%20Final/Main.ipynb#X22sZmlsZQ%3D%3D?line=3'>4</a>\u001b[0m     \u001b[39mprint\u001b[39m(t)\n\u001b[1;32m----> <a href='vscode-notebook-cell:/g%3A/Meu%20Drive/TI/Santander%20Coders/Engenharia%20de%20Dados/04%20-%20Extra%C3%A7%C3%A3o%20de%20Dados%20I/Projeto%20Final/Main.ipynb#X22sZmlsZQ%3D%3D?line=4'>5</a>\u001b[0m     time\u001b[39m.\u001b[39msleep(\u001b[39m1\u001b[39m)\n\u001b[0;32m      <a href='vscode-notebook-cell:/g%3A/Meu%20Drive/TI/Santander%20Coders/Engenharia%20de%20Dados/04%20-%20Extra%C3%A7%C3%A3o%20de%20Dados%20I/Projeto%20Final/Main.ipynb#X22sZmlsZQ%3D%3D?line=5'>6</a>\u001b[0m \u001b[39mprint\u001b[39m(\u001b[39m\"\u001b[39m\u001b[39mfinaliza contagem\u001b[39m\u001b[39m\"\u001b[39m)\n",
      "\u001b[1;31mKeyboardInterrupt\u001b[0m: "
     ]
    }
   ],
   "source": [
    "while 1==1:\n",
    "    timer(5)\n",
    "    df = etl()\n",
    "    df.head()\n"
   ]
  },
  {
   "cell_type": "code",
   "execution_count": null,
   "metadata": {},
   "outputs": [
    {
     "name": "stdout",
     "output_type": "stream",
     "text": [
      "Quantidade de artigos achados: 122\n",
      "Primeira leitura\n"
     ]
    },
    {
     "data": {
      "text/html": [
       "<div>\n",
       "<style scoped>\n",
       "    .dataframe tbody tr th:only-of-type {\n",
       "        vertical-align: middle;\n",
       "    }\n",
       "\n",
       "    .dataframe tbody tr th {\n",
       "        vertical-align: top;\n",
       "    }\n",
       "\n",
       "    .dataframe thead th {\n",
       "        text-align: right;\n",
       "    }\n",
       "</style>\n",
       "<table border=\"1\" class=\"dataframe\">\n",
       "  <thead>\n",
       "    <tr style=\"text-align: right;\">\n",
       "      <th></th>\n",
       "      <th>titulo</th>\n",
       "      <th>descricao</th>\n",
       "      <th>conteudo</th>\n",
       "      <th>autor</th>\n",
       "      <th>fonte</th>\n",
       "      <th>url</th>\n",
       "      <th>publicado_em</th>\n",
       "      <th>criterio_relevancia</th>\n",
       "    </tr>\n",
       "  </thead>\n",
       "  <tbody>\n",
       "    <tr>\n",
       "      <th>0</th>\n",
       "      <td>Árvore “congelada” no tempo por milhões de ano...</td>\n",
       "      <td>Conhecida como \"fóssil vivo\", a árvore pratica...</td>\n",
       "      <td>Cientistas da AustrÃ¡lia, Estados Unidos e ItÃ...</td>\n",
       "      <td>Alessandro Di Lorenzo</td>\n",
       "      <td>Olhardigital.com.br</td>\n",
       "      <td>https://olhardigital.com.br/2023/09/15/ciencia...</td>\n",
       "      <td>2023-09-15 17:06:28</td>\n",
       "      <td>genoma</td>\n",
       "    </tr>\n",
       "    <tr>\n",
       "      <th>1</th>\n",
       "      <td>Estudo indica onde fica o lar original da huma...</td>\n",
       "      <td>Pesquisadores criaram uma rede de quase 27 mil...</td>\n",
       "      <td>A histÃ³ria da humanidade Ã© marcada pelas mig...</td>\n",
       "      <td>Alessandro Di Lorenzo</td>\n",
       "      <td>Olhardigital.com.br</td>\n",
       "      <td>https://olhardigital.com.br/2023/09/14/ciencia...</td>\n",
       "      <td>2023-09-14 20:40:37</td>\n",
       "      <td>genoma</td>\n",
       "    </tr>\n",
       "    <tr>\n",
       "      <th>2</th>\n",
       "      <td>Novo vírus é descoberto nas profundezas da Fos...</td>\n",
       "      <td>Bacteriófago, um tipo de vírus que infecta e s...</td>\n",
       "      <td>Segundo dados da AdministraÃ§Ã£o Nacional OceÃ...</td>\n",
       "      <td>Alessandro Di Lorenzo</td>\n",
       "      <td>Olhardigital.com.br</td>\n",
       "      <td>https://olhardigital.com.br/2023/09/21/ciencia...</td>\n",
       "      <td>2023-09-21 20:26:34</td>\n",
       "      <td>genoma</td>\n",
       "    </tr>\n",
       "    <tr>\n",
       "      <th>3</th>\n",
       "      <td>Miniórgãos descobertos em mamíferos podem gera...</td>\n",
       "      <td>Pesquisadores do Instituto Federal Suíço de Te...</td>\n",
       "      <td>Pesquisadores do Instituto Federal Suíço de Te...</td>\n",
       "      <td>Jorge Marin</td>\n",
       "      <td>Tecmundo.com.br</td>\n",
       "      <td>https://www.tecmundo.com.br/ciencia/272244-min...</td>\n",
       "      <td>2023-10-02 20:30:04</td>\n",
       "      <td>genoma</td>\n",
       "    </tr>\n",
       "    <tr>\n",
       "      <th>4</th>\n",
       "      <td>Pesquisadores analisam a complexidade da doenç...</td>\n",
       "      <td>Equipe utilizou mais de duas milhões de célula...</td>\n",
       "      <td>Investigando os potenciais tratamentos de Alzh...</td>\n",
       "      <td>Alisson Santos</td>\n",
       "      <td>Olhardigital.com.br</td>\n",
       "      <td>https://olhardigital.com.br/2023/09/29/medicin...</td>\n",
       "      <td>2023-09-29 09:00:00</td>\n",
       "      <td>genoma</td>\n",
       "    </tr>\n",
       "  </tbody>\n",
       "</table>\n",
       "</div>"
      ],
      "text/plain": [
       "                                              titulo  \\\n",
       "0  Árvore “congelada” no tempo por milhões de ano...   \n",
       "1  Estudo indica onde fica o lar original da huma...   \n",
       "2  Novo vírus é descoberto nas profundezas da Fos...   \n",
       "3  Miniórgãos descobertos em mamíferos podem gera...   \n",
       "4  Pesquisadores analisam a complexidade da doenç...   \n",
       "\n",
       "                                           descricao  \\\n",
       "0  Conhecida como \"fóssil vivo\", a árvore pratica...   \n",
       "1  Pesquisadores criaram uma rede de quase 27 mil...   \n",
       "2  Bacteriófago, um tipo de vírus que infecta e s...   \n",
       "3  Pesquisadores do Instituto Federal Suíço de Te...   \n",
       "4  Equipe utilizou mais de duas milhões de célula...   \n",
       "\n",
       "                                            conteudo                  autor  \\\n",
       "0  Cientistas da AustrÃ¡lia, Estados Unidos e ItÃ...  Alessandro Di Lorenzo   \n",
       "1  A histÃ³ria da humanidade Ã© marcada pelas mig...  Alessandro Di Lorenzo   \n",
       "2  Segundo dados da AdministraÃ§Ã£o Nacional OceÃ...  Alessandro Di Lorenzo   \n",
       "3  Pesquisadores do Instituto Federal Suíço de Te...            Jorge Marin   \n",
       "4  Investigando os potenciais tratamentos de Alzh...         Alisson Santos   \n",
       "\n",
       "                 fonte                                                url  \\\n",
       "0  Olhardigital.com.br  https://olhardigital.com.br/2023/09/15/ciencia...   \n",
       "1  Olhardigital.com.br  https://olhardigital.com.br/2023/09/14/ciencia...   \n",
       "2  Olhardigital.com.br  https://olhardigital.com.br/2023/09/21/ciencia...   \n",
       "3      Tecmundo.com.br  https://www.tecmundo.com.br/ciencia/272244-min...   \n",
       "4  Olhardigital.com.br  https://olhardigital.com.br/2023/09/29/medicin...   \n",
       "\n",
       "         publicado_em criterio_relevancia  \n",
       "0 2023-09-15 17:06:28              genoma  \n",
       "1 2023-09-14 20:40:37              genoma  \n",
       "2 2023-09-21 20:26:34              genoma  \n",
       "3 2023-10-02 20:30:04              genoma  \n",
       "4 2023-09-29 09:00:00              genoma  "
      ]
     },
     "execution_count": 16,
     "metadata": {},
     "output_type": "execute_result"
    }
   ],
   "source": [
    "df = etl()\n",
    "df.head()"
   ]
  },
  {
   "cell_type": "markdown",
   "metadata": {},
   "source": [
    "## Algumas outras transformações"
   ]
  },
  {
   "cell_type": "code",
   "execution_count": null,
   "metadata": {},
   "outputs": [],
   "source": [
    "# def noticias_por_data(df):\n",
    "\n",
    "    \n",
    "#     df = df.groupby(by=[df.publicado_em.dt.date]).agg(quantidade=('titulo', 'count')).sort_index()\n",
    "#     df = df.reset_index(drop=False)\n",
    "\n",
    "#     print(\"Pesquisa de noticias por data realizada com sucesso\\n\")    \n",
    "#     print(df)\n",
    "\n",
    "# def noticias_por_fonte_autor(df):\n",
    "\n",
    "   \n",
    "#     df = df.groupby(by=['fonte','autor']).agg(quantidade=('titulo', 'count'))\n",
    "    \n",
    "#     df = df.reset_index(drop=False)\n",
    "\n",
    " \n",
    "\n",
    "#     print(\"Pesquisa de noticias por fonte e autor realizada com sucesso\\n\")\n",
    "#     print(df)\n",
    "\n",
    "# def aparicoes_palavras(df):\n",
    "\n",
    "    \n",
    "#     df = df.groupby(by=[df.publicado_em.dt.date, 'criterio_relevancia']).agg(quantidade=('titulo', 'count')).sort_index()\n",
    "\n",
    "    \n",
    "#     df = df.reset_index(drop=False)\n",
    "\n",
    "    \n",
    "\n",
    "#     print(\"Pesquisa de noticias por aparicao realizada com sucesso\\n\")\n",
    "#     print(df)"
   ]
  },
  {
   "cell_type": "code",
   "execution_count": null,
   "metadata": {},
   "outputs": [],
   "source": [
    "\n",
    "# noticias_por_data = noticias_por_data(df)\n",
    "# noticias_por_data"
   ]
  },
  {
   "cell_type": "code",
   "execution_count": null,
   "metadata": {},
   "outputs": [],
   "source": [
    "# noticias_por_fonte_autor = noticias_por_fonte_autor(df)\n",
    "# noticias_por_fonte_autor"
   ]
  },
  {
   "cell_type": "code",
   "execution_count": null,
   "metadata": {},
   "outputs": [],
   "source": [
    "# aparicoes_palavras = aparicoes_palavras(df)\n",
    "# aparicoes_palavras"
   ]
  }
 ],
 "metadata": {
  "kernelspec": {
   "display_name": "Python 3",
   "language": "python",
   "name": "python3"
  },
  "language_info": {
   "codemirror_mode": {
    "name": "ipython",
    "version": 3
   },
   "file_extension": ".py",
   "mimetype": "text/x-python",
   "name": "python",
   "nbconvert_exporter": "python",
   "pygments_lexer": "ipython3",
   "version": "3.11.4"
  }
 },
 "nbformat": 4,
 "nbformat_minor": 2
}
